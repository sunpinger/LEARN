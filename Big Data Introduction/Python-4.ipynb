{
 "cells": [
  {
   "cell_type": "markdown",
   "metadata": {},
   "source": [
    "# Python部分第4次：函数与代码复用"
   ]
  },
  {
   "cell_type": "code",
   "execution_count": null,
   "metadata": {},
   "outputs": [],
   "source": [
    "def print_sum(start, stop):\n",
    "    result = 0\n",
    "    for i in range(start, stop + 1):\n",
    "        result += i\n",
    "    print('Sum is', result)\n",
    "\n",
    "print_sum(1, 10)"
   ]
  },
  {
   "cell_type": "code",
   "execution_count": null,
   "metadata": {},
   "outputs": [],
   "source": [
    "print(\"Happy birthday to you!\")\n",
    "print(\"Happy birthday to you!\")\n",
    "print(\"Happy birthday, dear Mike!\")\n",
    "print(\"Happy birthday to you!\")"
   ]
  },
  {
   "cell_type": "code",
   "execution_count": null,
   "metadata": {},
   "outputs": [],
   "source": [
    "def happy():\n",
    "    print(\"Happy birthday to you!\")\n",
    "def happyB(name):\n",
    "    happy()\n",
    "    happy()\n",
    "    print(\"Happy birthday, dear {}!\".format(name))\n",
    "    happy()\n",
    "\n",
    "happyB(\"Mike\")\n",
    "print()\n",
    "happyB(\"Lily\")"
   ]
  },
  {
   "cell_type": "code",
   "execution_count": null,
   "metadata": {},
   "outputs": [],
   "source": [
    "def f1():\n",
    "    f2()\n",
    "def f2():\n",
    "    print(\"This is function f2()\")\n",
    "f1()"
   ]
  },
  {
   "cell_type": "code",
   "execution_count": null,
   "metadata": {},
   "outputs": [],
   "source": [
    "def dup(str, times=2):\n",
    "    print(str*times)\n",
    "dup(\"ruc~\")"
   ]
  },
  {
   "cell_type": "code",
   "execution_count": null,
   "metadata": {},
   "outputs": [],
   "source": [
    "dup(\"ruc!\",4)"
   ]
  },
  {
   "cell_type": "code",
   "execution_count": null,
   "metadata": {
    "scrolled": true
   },
   "outputs": [],
   "source": [
    "def vfunc(a, *b):\n",
    "    print(type(b))\n",
    "    for n in b:\n",
    "        a += n\n",
    "    return a\n",
    "vfunc(1,2,3,4,5)"
   ]
  },
  {
   "cell_type": "code",
   "execution_count": 5,
   "metadata": {},
   "outputs": [
    {
     "name": "stdout",
     "output_type": "stream",
     "text": [
      "(5, 7, 9)\n",
      "(5, 7, 9)\n"
     ]
    },
    {
     "ename": "TypeError",
     "evalue": "func() got multiple values for argument 'x1'",
     "output_type": "error",
     "traceback": [
      "\u001b[1;31m---------------------------------------------------------------------------\u001b[0m",
      "\u001b[1;31mTypeError\u001b[0m                                 Traceback (most recent call last)",
      "Cell \u001b[1;32mIn [5], line 5\u001b[0m\n\u001b[0;32m      3\u001b[0m \u001b[39mprint\u001b[39m(func(\u001b[39m1\u001b[39m,\u001b[39m2\u001b[39m,\u001b[39m3\u001b[39m,\u001b[39m4\u001b[39m,\u001b[39m5\u001b[39m,\u001b[39m6\u001b[39m))\n\u001b[0;32m      4\u001b[0m \u001b[39mprint\u001b[39m(func(x2\u001b[39m=\u001b[39m\u001b[39m4\u001b[39m, y2\u001b[39m=\u001b[39m\u001b[39m5\u001b[39m, z2\u001b[39m=\u001b[39m\u001b[39m6\u001b[39m, x1\u001b[39m=\u001b[39m\u001b[39m1\u001b[39m, y1\u001b[39m=\u001b[39m\u001b[39m2\u001b[39m, z1\u001b[39m=\u001b[39m\u001b[39m3\u001b[39m))\n\u001b[1;32m----> 5\u001b[0m \u001b[39mprint\u001b[39m(func(\u001b[39m1\u001b[39;49m,\u001b[39m2\u001b[39;49m,\u001b[39m3\u001b[39;49m,x1\u001b[39m=\u001b[39;49m\u001b[39m4\u001b[39;49m,y2\u001b[39m=\u001b[39;49m\u001b[39m5\u001b[39;49m,z2\u001b[39m=\u001b[39;49m\u001b[39m6\u001b[39;49m))\n",
      "\u001b[1;31mTypeError\u001b[0m: func() got multiple values for argument 'x1'"
     ]
    }
   ],
   "source": [
    "def func(x1,y1,z1,x2,y2,z2):\n",
    "    return x1+x2, y1+y2, z1+z2 \n",
    "print(func(1,2,3,4,5,6))\n",
    "print(func(x2=4, y2=5, z2=6, x1=1, y1=2, z1=3))"
   ]
  },
  {
   "cell_type": "code",
   "execution_count": 11,
   "metadata": {},
   "outputs": [
    {
     "ename": "TypeError",
     "evalue": "func() got multiple values for argument 'x1'",
     "output_type": "error",
     "traceback": [
      "\u001b[1;31m---------------------------------------------------------------------------\u001b[0m",
      "\u001b[1;31mTypeError\u001b[0m                                 Traceback (most recent call last)",
      "Cell \u001b[1;32mIn [11], line 1\u001b[0m\n\u001b[1;32m----> 1\u001b[0m func(\u001b[39m1\u001b[39;49m,\u001b[39m2\u001b[39;49m,\u001b[39m3\u001b[39;49m,x1\u001b[39m=\u001b[39;49m\u001b[39m4\u001b[39;49m,y2\u001b[39m=\u001b[39;49m\u001b[39m5\u001b[39;49m,z2\u001b[39m=\u001b[39;49m\u001b[39m6\u001b[39;49m)\n",
      "\u001b[1;31mTypeError\u001b[0m: func() got multiple values for argument 'x1'"
     ]
    }
   ],
   "source": [
    "func(1,2,3,x1=4,y2=5,z2=6)"
   ]
  },
  {
   "cell_type": "code",
   "execution_count": null,
   "metadata": {},
   "outputs": [],
   "source": [
    "def func(a,b):\n",
    "    return a*b\n",
    "s = func(\"ruc!\",2)\n",
    "print(s)"
   ]
  },
  {
   "cell_type": "code",
   "execution_count": null,
   "metadata": {},
   "outputs": [],
   "source": [
    "def func(a,b):\n",
    "    return b, a\n",
    "s = func(\"ruc!\",2)\n",
    "print(s, type(s))"
   ]
  },
  {
   "cell_type": "code",
   "execution_count": null,
   "metadata": {},
   "outputs": [],
   "source": [
    "n = 1 #n是全局变量\n",
    "def func(a, b):\n",
    "    c = a * b #c是局部变量，a和b作为函数参数也是局部变量\n",
    "    return c\n",
    "s = func(\"ruc!\", 2)\n",
    "print(c)"
   ]
  },
  {
   "cell_type": "code",
   "execution_count": null,
   "metadata": {},
   "outputs": [],
   "source": [
    "n = 1 #n是全局变量\n",
    "def func(a, b):\n",
    "    n = b #这个n是在函数内存中新生成的局部变量，不是全局变量\n",
    "    return a*b\n",
    "s = func(\"ruc!\", 2)\n",
    "print(s, n) #测试一下n值是否改变"
   ]
  },
  {
   "cell_type": "code",
   "execution_count": null,
   "metadata": {},
   "outputs": [],
   "source": [
    "ls = [] #ls是全局列表变量\n",
    "def func(a, b):\n",
    "    ls.append(b) #将局部变量b增加到全局列表变量ls中\n",
    "    return a*b\n",
    "s = func(\"ruc!\", 2)\n",
    "print(s, ls) #测试一下ls值是否改变"
   ]
  },
  {
   "cell_type": "code",
   "execution_count": null,
   "metadata": {},
   "outputs": [],
   "source": [
    "ls = [] #ls是全局列表变量\n",
    "def func(a, b):\n",
    "    ls = [] #创建了名称为ls的局部列表变量列\n",
    "    ls.append(b) #将局部变量b增加到全局列表变量ls中\n",
    "    return a*b\n",
    "s = func(\"ruc!\", 3)\n",
    "print(s, ls) #测试一下ls值是否改变"
   ]
  },
  {
   "cell_type": "code",
   "execution_count": null,
   "metadata": {},
   "outputs": [],
   "source": [
    "def fact(n):\n",
    "    if n == 0:\n",
    "        return 1\n",
    "    else:\n",
    "        return n * fact(n-1)\n",
    "num = eval(input(\"请输入一个整数: \"))\n",
    "print(fact(abs(int(num))))"
   ]
  },
  {
   "cell_type": "code",
   "execution_count": null,
   "metadata": {},
   "outputs": [],
   "source": [
    "def reverse(s):\n",
    "    return reverse(s[1:]) + s[0]\n",
    "reverse(\"ABC\")"
   ]
  },
  {
   "cell_type": "code",
   "execution_count": null,
   "metadata": {},
   "outputs": [],
   "source": [
    "def reverse(s):\n",
    "    if s==\"\":\n",
    "        return s\n",
    "    else:\n",
    "        return reverse(s[1:]) + s[0]\n",
    "\n",
    "str = input(\"请输入一个字符串：\")\n",
    "print(reverse(str))"
   ]
  },
  {
   "cell_type": "code",
   "execution_count": null,
   "metadata": {
    "scrolled": true
   },
   "outputs": [],
   "source": [
    "def reverse(s):\n",
    "    if s==\"\" or len(s) == 1: \n",
    "        return s\n",
    "    else:\n",
    "        return s[-1] + reverse(s[1:-1]) + s[0]\n",
    "\n",
    "str = \"abcdefg\"\n",
    "print(reverse(str))"
   ]
  },
  {
   "cell_type": "code",
   "execution_count": 3,
   "metadata": {},
   "outputs": [
    {
     "data": {
      "text/plain": [
       "[<matplotlib.lines.Line2D at 0x15aaaf7e1d0>]"
      ]
     },
     "execution_count": 3,
     "metadata": {},
     "output_type": "execute_result"
    },
    {
     "data": {
      "image/png": "[encoded data removed]",
      "text/plain": [
       "<Figure size 640x480 with 1 Axes>"
      ]
     },
     "metadata": {},
     "output_type": "display_data"
    }
   ],
   "source": [
    "import numpy as np\n",
    "import matplotlib.pyplot as plt\n",
    "\n",
    "def f(x):\n",
    "    return x**2 + 2*x -1\n",
    "\n",
    "range = [f(x) for x in np.arange(-10,10,0.001)]\n",
    "plt.plot(np.arange(-10,10,0.001),range)"
   ]
  },
  {
   "cell_type": "code",
   "execution_count": null,
   "metadata": {},
   "outputs": [],
   "source": []
  }
 ],
 "metadata": {
  "kernelspec": {
   "display_name": "Python 3.10.7 64-bit",
   "language": "python",
   "name": "python3"
  },
  "language_info": {
   "codemirror_mode": {
    "name": "ipython",
    "version": 3
   },
   "file_extension": ".py",
   "mimetype": "text/x-python",
   "name": "python",
   "nbconvert_exporter": "python",
   "pygments_lexer": "ipython3",
   "version": "3.10.7"
  },
  "vscode": {
   "interpreter": {
    "hash": "3e282d89cba3cb7044b274283d5c9eb3f913e26e8fb3e03a208bfe7d8ed22969"
   }
  }
 },
 "nbformat": 4,
 "nbformat_minor": 4
}
