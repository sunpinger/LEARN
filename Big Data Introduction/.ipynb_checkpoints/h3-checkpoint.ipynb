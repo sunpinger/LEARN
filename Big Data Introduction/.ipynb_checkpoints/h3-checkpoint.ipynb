{
 "cells": [
  {
   "cell_type": "code",
   "execution_count": 1,
   "metadata": {},
   "outputs": [],
   "source": [
    "def wordCount(sentence,word):\n",
    "    l1 = len(sentence)\n",
    "    l2 = len(word)\n",
    "    t = 0\n",
    "    for i in range(0,l1-l2):\n",
    "        if sentence[i:i+l2] == word:\n",
    "            t +=1\n",
    "    return t"
   ]
  },
  {
   "cell_type": "code",
   "execution_count": 2,
   "metadata": {},
   "outputs": [
    {
     "data": {
      "text/plain": [
       "5"
      ]
     },
     "execution_count": 2,
     "metadata": {},
     "output_type": "execute_result"
    }
   ],
   "source": [
    "s1 = \"人工智能是计算机科学的一个分支，它企图了解智能的实质，并生产出一种新的能以人类智能相似的方式做出反应的智能机器，该领域的研究包括机器人、语言识别、图像识别、自然语言处理和专家系统等。人工智能从诞生以来，理论和技术日益成熟，应用领域也不断扩大，可以设想，未来人工智能带来的科技产品，将会是人类智慧的“容器”。人工智能可以对人的意识、思维的信息过程的模拟。人工智能不是人的智能，但能像人那样思考、也可能超过人的智能。\"\n",
    "wordCount(s1,\"人工智能\")"
   ]
  },
  {
   "cell_type": "code",
   "execution_count": 9,
   "metadata": {},
   "outputs": [],
   "source": [
    "import random,math\n",
    "def pi1(t):\n",
    "    # 蒙特卡洛法\n",
    "    t=1000000\n",
    "    hits=0.0\n",
    "\n",
    "    random.seed()\n",
    "    for i in range(1, t+1):\n",
    "        x,y = random.random(),random.random()\n",
    "        dist = math.sqrt(x**2+y**2)\n",
    "        if dist<=1.0:\n",
    "            hits = hits + 1\n",
    "\n",
    "    pi= 4 * (hits /t)\n",
    "    return pi\n",
    "\n",
    "def pi2(t):\n",
    "    # 欧拉公式\n",
    "    total = 0\n",
    "    for i in range(1,t+1):\n",
    "        total += 1/i**2\n",
    "    pi = math.sqrt(6*total)\n",
    "    return pi\n",
    "\n",
    "def pi3(t):\n",
    "    #BBP公式\n",
    "    total = 0\n",
    "    for i in range(0,t):\n",
    "        total += 3/((4*i+1)*(2*i+1)*(1*i+1))\n",
    "    pi = total\n",
    "    return pi"
   ]
  },
  {
   "cell_type": "code",
   "execution_count": 25,
   "metadata": {},
   "outputs": [
    {
     "data": {
      "text/html": [
       "<div>\n",
       "<style scoped>\n",
       "    .dataframe tbody tr th:only-of-type {\n",
       "        vertical-align: middle;\n",
       "    }\n",
       "\n",
       "    .dataframe tbody tr th {\n",
       "        vertical-align: top;\n",
       "    }\n",
       "\n",
       "    .dataframe thead th {\n",
       "        text-align: right;\n",
       "    }\n",
       "</style>\n",
       "<table border=\"1\" class=\"dataframe\">\n",
       "  <thead>\n",
       "    <tr style=\"text-align: right;\">\n",
       "      <th></th>\n",
       "      <th>Times</th>\n",
       "      <th>PI1</th>\n",
       "      <th>PI2</th>\n",
       "      <th>PI3</th>\n",
       "    </tr>\n",
       "  </thead>\n",
       "  <tbody>\n",
       "    <tr>\n",
       "      <th>0</th>\n",
       "      <td>10000</td>\n",
       "      <td>3.139268</td>\n",
       "      <td>3.141497</td>\n",
       "      <td>3.141593</td>\n",
       "    </tr>\n",
       "    <tr>\n",
       "      <th>1</th>\n",
       "      <td>20000</td>\n",
       "      <td>3.144984</td>\n",
       "      <td>3.141545</td>\n",
       "      <td>3.141593</td>\n",
       "    </tr>\n",
       "    <tr>\n",
       "      <th>2</th>\n",
       "      <td>30000</td>\n",
       "      <td>3.141656</td>\n",
       "      <td>3.141561</td>\n",
       "      <td>3.141593</td>\n",
       "    </tr>\n",
       "    <tr>\n",
       "      <th>3</th>\n",
       "      <td>40000</td>\n",
       "      <td>3.143724</td>\n",
       "      <td>3.141569</td>\n",
       "      <td>3.141593</td>\n",
       "    </tr>\n",
       "    <tr>\n",
       "      <th>4</th>\n",
       "      <td>50000</td>\n",
       "      <td>3.140892</td>\n",
       "      <td>3.141574</td>\n",
       "      <td>3.141593</td>\n",
       "    </tr>\n",
       "    <tr>\n",
       "      <th>5</th>\n",
       "      <td>60000</td>\n",
       "      <td>3.142656</td>\n",
       "      <td>3.141577</td>\n",
       "      <td>3.141593</td>\n",
       "    </tr>\n",
       "    <tr>\n",
       "      <th>6</th>\n",
       "      <td>70000</td>\n",
       "      <td>3.142340</td>\n",
       "      <td>3.141579</td>\n",
       "      <td>3.141593</td>\n",
       "    </tr>\n",
       "    <tr>\n",
       "      <th>7</th>\n",
       "      <td>80000</td>\n",
       "      <td>3.142440</td>\n",
       "      <td>3.141581</td>\n",
       "      <td>3.141593</td>\n",
       "    </tr>\n",
       "    <tr>\n",
       "      <th>8</th>\n",
       "      <td>90000</td>\n",
       "      <td>3.145616</td>\n",
       "      <td>3.141582</td>\n",
       "      <td>3.141593</td>\n",
       "    </tr>\n",
       "    <tr>\n",
       "      <th>9</th>\n",
       "      <td>100000</td>\n",
       "      <td>3.143500</td>\n",
       "      <td>3.141583</td>\n",
       "      <td>3.141593</td>\n",
       "    </tr>\n",
       "  </tbody>\n",
       "</table>\n",
       "</div>"
      ],
      "text/plain": [
       "    Times       PI1       PI2       PI3\n",
       "0   10000  3.139268  3.141497  3.141593\n",
       "1   20000  3.144984  3.141545  3.141593\n",
       "2   30000  3.141656  3.141561  3.141593\n",
       "3   40000  3.143724  3.141569  3.141593\n",
       "4   50000  3.140892  3.141574  3.141593\n",
       "5   60000  3.142656  3.141577  3.141593\n",
       "6   70000  3.142340  3.141579  3.141593\n",
       "7   80000  3.142440  3.141581  3.141593\n",
       "8   90000  3.145616  3.141582  3.141593\n",
       "9  100000  3.143500  3.141583  3.141593"
      ]
     },
     "execution_count": 25,
     "metadata": {},
     "output_type": "execute_result"
    }
   ],
   "source": [
    "import matplotlib.pyplot as plt\n",
    "import pandas as pd\n",
    "\n",
    "times = [i for i in range(10000,100001,10000)]\n",
    "df = pd.DataFrame({\n",
    "    \"Times\": times,\n",
    "    \"PI1\": [pi1(i) for i in times],\n",
    "    \"PI2\": [pi2(i) for i in times],\n",
    "    \"PI3\": [pi3(i) for i in times]\n",
    "})\n",
    "df"
   ]
  },
  {
   "cell_type": "code",
   "execution_count": 27,
   "metadata": {},
   "outputs": [
    {
     "data": {
      "text/plain": [
       "<matplotlib.collections.PathCollection at 0x248a22c05e0>"
      ]
     },
     "execution_count": 27,
     "metadata": {},
     "output_type": "execute_result"
    },
    {
     "data": {
      "image/png": "[encoded data removed]",
      "text/plain": [
       "<Figure size 640x480 with 1 Axes>"
      ]
     },
     "metadata": {},
     "output_type": "display_data"
    }
   ],
   "source": [
    "plt.scatter(times,df['PI2'])\n",
    "plt.scatter(times,df['PI3'])"
   ]
  },
  {
   "cell_type": "code",
   "execution_count": null,
   "metadata": {},
   "outputs": [],
   "source": []
  }
 ],
 "metadata": {
  "kernelspec": {
   "display_name": "Python 3 (ipykernel)",
   "language": "python",
   "name": "python3"
  },
  "language_info": {
   "codemirror_mode": {
    "name": "ipython",
    "version": 3
   },
   "file_extension": ".py",
   "mimetype": "text/x-python",
   "name": "python",
   "nbconvert_exporter": "python",
   "pygments_lexer": "ipython3",
   "version": "3.10.7"
  },
  "vscode": {
   "interpreter": {
    "hash": "3e282d89cba3cb7044b274283d5c9eb3f913e26e8fb3e03a208bfe7d8ed22969"
   }
  }
 },
 "nbformat": 4,
 "nbformat_minor": 4
}
