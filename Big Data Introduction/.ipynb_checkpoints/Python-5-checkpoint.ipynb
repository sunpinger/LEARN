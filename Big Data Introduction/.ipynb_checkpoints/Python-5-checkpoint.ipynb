{
 "cells": [
  {
   "cell_type": "markdown",
   "metadata": {},
   "source": [
    "# Python部分第5次：组合数据类型"
   ]
  },
  {
   "cell_type": "code",
   "execution_count": null,
   "metadata": {},
   "outputs": [],
   "source": [
    "nums = []\n",
    "for i in range(5):\n",
    "    nums.append(float(input()))\n",
    "s = 0\n",
    "for num in nums:\n",
    "    s += num\n",
    "\n",
    "avg = s / 5\n",
    "print(avg)"
   ]
  },
  {
   "cell_type": "code",
   "execution_count": null,
   "metadata": {},
   "outputs": [],
   "source": [
    "ls = [\"信息楼\", \"RUC\", [125, \"AI\"], 100872, \"RUC\"]\n",
    "ls"
   ]
  },
  {
   "cell_type": "code",
   "execution_count": null,
   "metadata": {},
   "outputs": [],
   "source": [
    "ls[2][-1][0]"
   ]
  },
  {
   "cell_type": "code",
   "execution_count": null,
   "metadata": {},
   "outputs": [],
   "source": [
    "list((\"信息楼\", \"RUC\", (12, \"AI\"), 100872, \"RUC\"))"
   ]
  },
  {
   "cell_type": "code",
   "execution_count": null,
   "metadata": {},
   "outputs": [],
   "source": [
    "list(\"中国人民大学高瓴人工智能学院\")"
   ]
  },
  {
   "cell_type": "code",
   "execution_count": null,
   "metadata": {},
   "outputs": [],
   "source": [
    "list()"
   ]
  },
  {
   "cell_type": "code",
   "execution_count": null,
   "metadata": {},
   "outputs": [],
   "source": [
    "ls = [\"信息楼\", \"RUC\", [125, \"AI\"], 100872, \"RUC\"]\n",
    "lt = ls\n",
    "ls[2] = 0\n",
    "lt"
   ]
  },
  {
   "cell_type": "code",
   "execution_count": null,
   "metadata": {},
   "outputs": [],
   "source": [
    "ls = list(range(6))\n",
    "ls"
   ]
  },
  {
   "cell_type": "code",
   "execution_count": null,
   "metadata": {},
   "outputs": [],
   "source": [
    "len(ls[3:])"
   ]
  },
  {
   "cell_type": "code",
   "execution_count": null,
   "metadata": {},
   "outputs": [],
   "source": [
    "2 in ls"
   ]
  },
  {
   "cell_type": "code",
   "execution_count": null,
   "metadata": {},
   "outputs": [],
   "source": [
    "ls[3] = 'replace'\n",
    "ls"
   ]
  },
  {
   "cell_type": "code",
   "execution_count": null,
   "metadata": {},
   "outputs": [],
   "source": [
    "ls[2:4] = ['machine','learning']\n",
    "ls"
   ]
  },
  {
   "cell_type": "code",
   "execution_count": null,
   "metadata": {},
   "outputs": [],
   "source": [
    "ls[2:4] = ['machine','learning','AI']\n",
    "ls"
   ]
  },
  {
   "cell_type": "code",
   "execution_count": null,
   "metadata": {},
   "outputs": [],
   "source": [
    "ls[2:4] = ['AI']\n",
    "ls"
   ]
  },
  {
   "cell_type": "code",
   "execution_count": null,
   "metadata": {},
   "outputs": [],
   "source": [
    "for i in ls:\n",
    "    print(i, end=\" \")"
   ]
  },
  {
   "cell_type": "code",
   "execution_count": null,
   "metadata": {},
   "outputs": [],
   "source": [
    "a = [1, 2, 3, 4] \n",
    "b = a \n",
    "b[1] = 100 \n",
    "print(a[1])"
   ]
  },
  {
   "cell_type": "code",
   "execution_count": null,
   "metadata": {},
   "outputs": [],
   "source": [
    "a = [1, 2, 3, 4] \n",
    "b = a[:]\n",
    "b[1] = 100 \n",
    "print (a[1])"
   ]
  },
  {
   "cell_type": "code",
   "execution_count": null,
   "metadata": {},
   "outputs": [],
   "source": [
    "def swap(a, b):\n",
    "    tmp = a\n",
    "    a = b\n",
    "    b = tmp\n",
    "\n",
    "x = 10\n",
    "y = 20 \n",
    "swap(x, y)\n",
    "print(x, y)"
   ]
  },
  {
   "cell_type": "code",
   "execution_count": null,
   "metadata": {},
   "outputs": [],
   "source": [
    "def swap(lst, a, b):\n",
    "    tmp = lst[a]\n",
    "    lst[a] = lst[b]\n",
    "    lst[b] = tmp\n",
    "\n",
    "x = [10, 20, 30]\n",
    "swap(x, 0, 1)\n",
    "print(x)"
   ]
  },
  {
   "cell_type": "code",
   "execution_count": null,
   "metadata": {},
   "outputs": [],
   "source": [
    "ls = [[125, 12], [[7, 2], 2, 7], [5, 2], 1]\n",
    "print(len(ls))"
   ]
  },
  {
   "cell_type": "code",
   "execution_count": 2,
   "metadata": {},
   "outputs": [
    {
     "name": "stdout",
     "output_type": "stream",
     "text": [
      "[125, 1]\n"
     ]
    }
   ],
   "source": [
    "ls1 = [125, 1]\n",
    "ls2 = ls1\n",
    "ls1[0] = 2\n",
    "print(ls2)"
   ]
  },
  {
   "cell_type": "code",
   "execution_count": null,
   "metadata": {},
   "outputs": [],
   "source": [
    "from math import sqrt\n",
    "\n",
    "def getNum(): #获取用户输入\n",
    "    nums = []\n",
    "    iNumStr = input(\"请输入数字(直接输入回车退出): \")\n",
    "    while iNumStr != \"\":\n",
    "        nums.append(eval(iNumStr))\n",
    "        iNumStr = input(\"请输入数字(直接输入回车退出): \")\n",
    "    return nums\n",
    "\n",
    "def mean(numbers): #计算平均值\n",
    "    s = 0.0\n",
    "    for num in numbers:\n",
    "        s = s + num\n",
    "    return s / len(numbers)\n",
    "\n",
    "def dev(numbers, mean): #计算方差\n",
    "    sdev = 0.0\n",
    "    for num in numbers:\n",
    "        sdev = sdev + (num - mean)**2\n",
    "    return sqrt(sdev / (len(numbers)-1))\n",
    "\n",
    "def median(numbers): #计算中位数\n",
    "    sorted(numbers)\n",
    "    size = len(numbers)\n",
    "    if size % 2 == 0:\n",
    "        med = (numbers[size//2-1] + numbers[size//2])/2\n",
    "    else:\n",
    "        med = numbers[size//2]\n",
    "    return med\n",
    "\n",
    "n = getNum() #主体函数\n",
    "m = mean(n)\n",
    "print(\"平均值:{},方差:{:.2},中位数:{}.\".format(m,\\\n",
    " dev(n,m),median(n)))"
   ]
  },
  {
   "cell_type": "code",
   "execution_count": null,
   "metadata": {},
   "outputs": [],
   "source": [
    "def search(lst, x):\n",
    "    for i in range(len(lst)):\n",
    "        if lst[i] == x:\n",
    "            return i\n",
    "    return -1\n",
    "\n",
    "search([1, 2, 2], 2)"
   ]
  },
  {
   "cell_type": "code",
   "execution_count": null,
   "metadata": {},
   "outputs": [],
   "source": [
    "[1, 2, 2].index(2)"
   ]
  },
  {
   "cell_type": "code",
   "execution_count": null,
   "metadata": {},
   "outputs": [],
   "source": [
    "a = [5, 2, 3, 1, 4]\n",
    "sorted(a)"
   ]
  },
  {
   "cell_type": "code",
   "execution_count": null,
   "metadata": {},
   "outputs": [],
   "source": [
    "a = [5, 2, 3, 1, 4]\n",
    "a.sort()\n",
    "a"
   ]
  },
  {
   "cell_type": "code",
   "execution_count": null,
   "metadata": {},
   "outputs": [],
   "source": []
  },
  {
   "cell_type": "code",
   "execution_count": null,
   "metadata": {},
   "outputs": [],
   "source": [
    "creature = \"cat\", \"dog\", \"tiger\", \"human\"\n",
    "print(creature)"
   ]
  },
  {
   "cell_type": "code",
   "execution_count": null,
   "metadata": {},
   "outputs": [],
   "source": [
    "color = (\"red\", 0x001100, \"blue\", creature)\n",
    "color"
   ]
  },
  {
   "cell_type": "code",
   "execution_count": null,
   "metadata": {},
   "outputs": [],
   "source": [
    "color[2]"
   ]
  },
  {
   "cell_type": "code",
   "execution_count": null,
   "metadata": {},
   "outputs": [],
   "source": [
    "color[-1][2]"
   ]
  },
  {
   "cell_type": "code",
   "execution_count": null,
   "metadata": {},
   "outputs": [],
   "source": [
    "def func(x): #函数多返回值\n",
    "    return x, x**3\n",
    "a, b = 'dog', 'tiger' #多变量同步赋值\n",
    "a, b = (b, a) #多变量同步赋值，括号可省略\n",
    "print(a)"
   ]
  },
  {
   "cell_type": "code",
   "execution_count": null,
   "metadata": {},
   "outputs": [],
   "source": [
    "import math\n",
    "for x, y in ((1,0), (2,5), (3,8)): #循环遍历\n",
    "    print(math.hypot(x,y)) #求多个坐标值到原点的距离"
   ]
  },
  {
   "cell_type": "code",
   "execution_count": null,
   "metadata": {},
   "outputs": [],
   "source": []
  },
  {
   "cell_type": "code",
   "execution_count": null,
   "metadata": {},
   "outputs": [],
   "source": [
    "S = {\"信息楼\", \"RUC\", (12, \"AI\"), 100872}\n",
    "S"
   ]
  },
  {
   "cell_type": "code",
   "execution_count": null,
   "metadata": {},
   "outputs": [],
   "source": [
    "S = {\"信息楼\", \"RUC\", (12, \"AI\"), 100872, \"RUC\"}\n",
    "S"
   ]
  },
  {
   "cell_type": "code",
   "execution_count": null,
   "metadata": {},
   "outputs": [],
   "source": [
    "T = set('intelligence')\n",
    "T"
   ]
  },
  {
   "cell_type": "code",
   "execution_count": null,
   "metadata": {},
   "outputs": [],
   "source": [
    "T = set((\"python\", \"learning\", \"artificial\", \"intelligence\"))\n",
    "T"
   ]
  },
  {
   "cell_type": "code",
   "execution_count": null,
   "metadata": {},
   "outputs": [],
   "source": [
    "S = {\"信息楼\", \"RUC\", (12, \"AI\"), 100872}\n",
    "\"RUC\" in S   #成员关系测试"
   ]
  },
  {
   "cell_type": "code",
   "execution_count": null,
   "metadata": {},
   "outputs": [],
   "source": [
    "tup = (125, \"信息楼\", \"RUC\", (12, \"AI\"), 100872, 125)\n",
    "set(tup)  #元素去重"
   ]
  },
  {
   "cell_type": "code",
   "execution_count": null,
   "metadata": {},
   "outputs": [],
   "source": [
    "S = set(tup)-{125} \n",
    "S"
   ]
  },
  {
   "cell_type": "code",
   "execution_count": null,
   "metadata": {},
   "outputs": [],
   "source": [
    "newtup = tuple(S)  # 去重同时删除数据项\n",
    "newtup"
   ]
  },
  {
   "cell_type": "code",
   "execution_count": null,
   "metadata": {},
   "outputs": [],
   "source": [
    "S = set(tup)-{'信息楼'}\n",
    "S"
   ]
  },
  {
   "cell_type": "code",
   "execution_count": null,
   "metadata": {},
   "outputs": [],
   "source": []
  },
  {
   "cell_type": "code",
   "execution_count": null,
   "metadata": {},
   "outputs": [],
   "source": [
    "my_dict = {'John': 86411234, 'Bob': 86419453,'Mike': 86412387}\n",
    "print(my_dict['Bob'])"
   ]
  },
  {
   "cell_type": "code",
   "execution_count": null,
   "metadata": {},
   "outputs": [],
   "source": [
    "print(my_dict['Tom'])"
   ]
  },
  {
   "cell_type": "code",
   "execution_count": null,
   "metadata": {},
   "outputs": [],
   "source": [
    "my_dict['Tom'] = 86417639\n",
    "print(my_dict['Tom'])"
   ]
  },
  {
   "cell_type": "code",
   "execution_count": null,
   "metadata": {},
   "outputs": [],
   "source": [
    "dict1 = {'RUC': '中国人民大学', \n",
    "         'THU': '清华大学', \n",
    "         'PKU': '北京大学', \n",
    "         'BIT': '北京理工大学', \n",
    "         'BUAA': '北京航空航天大学'} # 用{}创建\n",
    "empty_dict = {} # 可以用这个方式创建空字典\n",
    "\n",
    "print(dict1)\n",
    "print(empty_dict)"
   ]
  },
  {
   "cell_type": "code",
   "execution_count": null,
   "metadata": {},
   "outputs": [],
   "source": [
    "print(dict1['RUC'])\n",
    "print(dict1['FDU'])"
   ]
  },
  {
   "cell_type": "code",
   "execution_count": null,
   "metadata": {},
   "outputs": [],
   "source": [
    "print(dict1.get('RUC'))\n",
    "print(dict1.get('FDU', \"名称未知\"))"
   ]
  },
  {
   "cell_type": "code",
   "execution_count": null,
   "metadata": {},
   "outputs": [],
   "source": [
    "print('RUC' in dict1)\n",
    "print('FDU' in dict1)"
   ]
  },
  {
   "cell_type": "code",
   "execution_count": null,
   "metadata": {},
   "outputs": [],
   "source": [
    "dict2 = dict(dict1) # 利用另一个dict创建，注意这里dict1中的数据会被拷贝一份\n",
    "print(dict2)\n",
    "dict2['FDU'] = \"复旦大学\"\n",
    "dict2['RUC'] = \"Renmin University of China\"\n",
    "print(dict2)\n"
   ]
  },
  {
   "cell_type": "code",
   "execution_count": null,
   "metadata": {},
   "outputs": [],
   "source": [
    "dict2 = dict(dict1) # 利用另一个dict创建，注意这里dict1中的数据会被拷贝一份\n",
    "print(dict2)\n",
    "del dict2['RUC']\n",
    "print(dict2)"
   ]
  },
  {
   "cell_type": "code",
   "execution_count": null,
   "metadata": {},
   "outputs": [],
   "source": [
    "dict2 = dict(dict1)\n",
    "keys = dict2.keys()\n",
    "print(keys)\n",
    "values = dict2.values()\n",
    "print(values)\n",
    "items = dict2.items()\n",
    "print(items)"
   ]
  },
  {
   "cell_type": "code",
   "execution_count": null,
   "metadata": {},
   "outputs": [],
   "source": [
    "del dict2['RUC']\n",
    "print(keys)\n",
    "print(values)\n",
    "print(items)"
   ]
  },
  {
   "cell_type": "code",
   "execution_count": null,
   "metadata": {},
   "outputs": [],
   "source": [
    "dict2 = dict(dict1)\n",
    "for key in dict2: # 该语句会遍历字典中所有键\n",
    "    print(key) \n",
    "    \n",
    "for key, value in dict2.items(): # 这样可以遍历所有键值对\n",
    "    print(key, value)"
   ]
  },
  {
   "cell_type": "code",
   "execution_count": null,
   "metadata": {},
   "outputs": [],
   "source": [
    "dict2 = dict(dict1)\n",
    "print(len(dict2)) # 字典的大小（包含键值对的个数）\n",
    "\n",
    "dict2.clear() # 清空字典\n",
    "print(dict2)\n",
    "\n",
    "dict2 = dict1.copy() # 返回一个字典的拷贝\n",
    "print(dict2)\n",
    "\n",
    "dict2.update({'RUC': 'Renmin University of China',\n",
    "              'THU': 'Tsinghua University'}) # 批量更新字典中键值对\n",
    "print(dict2)\n",
    "\n",
    "print(dict2.pop('PKU')) # 按键查找，然后删除相应键值对\n",
    "print(dict2)\n"
   ]
  },
  {
   "cell_type": "code",
   "execution_count": null,
   "metadata": {},
   "outputs": [],
   "source": [
    "count = [0] * 26\n",
    "for i in 'abcdad':\n",
    "    count[ord(i) - 97] += 1\n",
    "print(count)"
   ]
  },
  {
   "cell_type": "code",
   "execution_count": null,
   "metadata": {},
   "outputs": [],
   "source": [
    "count = {}\n",
    "for i in 'abcdad':\n",
    "    if i in count:\n",
    "        count[i] += 1\n",
    "    else:\n",
    "        count[i] = 1\n",
    "\n",
    "print(count)"
   ]
  },
  {
   "cell_type": "code",
   "execution_count": null,
   "metadata": {},
   "outputs": [],
   "source": [
    "f = open('emma.txt')\n",
    "word_freq = {}\n",
    "for line in f:\n",
    "    words = line.split()\n",
    "    for word in words:\n",
    "        if word in word_freq:\n",
    "            word_freq[word] += 1\n",
    "        else:\n",
    "            word_freq[word] = 1\n",
    "f.close()           \n",
    "word_freq_lst = []\n",
    "for word, freq in word_freq.items():\n",
    "    word_freq_lst.append((freq, word)) \n",
    "\n",
    "word_freq_lst.sort(reverse = True)\n",
    "\n",
    "for freq, word in word_freq_lst[:10]:\n",
    "    print(word, freq)"
   ]
  },
  {
   "cell_type": "code",
   "execution_count": null,
   "metadata": {},
   "outputs": [],
   "source": [
    "def edits(word):\n",
    "    # All edits that are one edit away from `word`.\n",
    "    letters    = 'abcdefghijklmnopqrstuvwxyz'\n",
    "    splits     = [(word[:i], word[i:])    for i in range(len(word) + 1)]\n",
    "    deletes    = [L + R[1:]               for L, R in splits if R]\n",
    "    transposes = [L + R[1] + R[0] + R[2:] for L, R in splits if len(R)>1]\n",
    "    replaces   = [L + c + R[1:]           for L, R in splits if R for c in letters]\n",
    "    inserts    = [L + c + R               for L, R in splits for c in letters]\n",
    "    return set(deletes + transposes + replaces + inserts)"
   ]
  },
  {
   "cell_type": "code",
   "execution_count": null,
   "metadata": {},
   "outputs": [],
   "source": []
  }
 ],
 "metadata": {
  "kernelspec": {
   "display_name": "Python 3 (ipykernel)",
   "language": "python",
   "name": "python3"
  },
  "language_info": {
   "codemirror_mode": {
    "name": "ipython",
    "version": 3
   },
   "file_extension": ".py",
   "mimetype": "text/x-python",
   "name": "python",
   "nbconvert_exporter": "python",
   "pygments_lexer": "ipython3",
   "version": "3.9.12"
  }
 },
 "nbformat": 4,
 "nbformat_minor": 4
}
