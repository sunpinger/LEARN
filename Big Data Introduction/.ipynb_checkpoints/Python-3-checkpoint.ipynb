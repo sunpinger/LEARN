{
 "cells": [
  {
   "cell_type": "markdown",
   "metadata": {},
   "source": [
    "# Python部分第3次：程序的控制结构"
   ]
  },
  {
   "cell_type": "code",
   "execution_count": 1,
   "metadata": {},
   "outputs": [
    {
     "name": "stdout",
     "output_type": "stream",
     "text": [
      "面积：50.26548245743669，周长：25.132741228718345\n"
     ]
    }
   ],
   "source": [
    "import math\n",
    "r = float(input(\"圆半径：\"))\n",
    "S = math.pi * r * r\n",
    "L = math.pi * 2 * r\n",
    "\n",
    "print(\"面积：{0}，周长：{1}\".format(S, L))"
   ]
  },
  {
   "cell_type": "code",
   "execution_count": 2,
   "metadata": {},
   "outputs": [
    {
     "name": "stdout",
     "output_type": "stream",
     "text": [
      "绝对值：1.0\n"
     ]
    }
   ],
   "source": [
    "\n",
    "R = float(input(\"实数值：\"))\n",
    "if R < 0:\n",
    "    R = -R\n",
    "\n",
    "print(\"绝对值：{0}\".format(R))"
   ]
  },
  {
   "cell_type": "code",
   "execution_count": 3,
   "metadata": {},
   "outputs": [
    {
     "ename": "ValueError",
     "evalue": "invalid literal for int() with base 10: ''",
     "output_type": "error",
     "traceback": [
      "\u001b[1;31m---------------------------------------------------------------------------\u001b[0m",
      "\u001b[1;31mValueError\u001b[0m                                Traceback (most recent call last)",
      "Cell \u001b[1;32mIn [3], line 1\u001b[0m\n\u001b[1;32m----> 1\u001b[0m R \u001b[38;5;241m=\u001b[39m \u001b[38;5;28;43mint\u001b[39;49m\u001b[43m(\u001b[49m\u001b[38;5;28;43minput\u001b[39;49m\u001b[43m(\u001b[49m\u001b[38;5;124;43m\"\u001b[39;49m\u001b[38;5;124;43m输入整数：\u001b[39;49m\u001b[38;5;124;43m\"\u001b[39;49m\u001b[43m)\u001b[49m\u001b[43m)\u001b[49m\n\u001b[0;32m      2\u001b[0m i, S \u001b[38;5;241m=\u001b[39m \u001b[38;5;241m1\u001b[39m, \u001b[38;5;241m0\u001b[39m\n\u001b[0;32m      3\u001b[0m \u001b[38;5;28;01mwhile\u001b[39;00m i \u001b[38;5;241m<\u001b[39m\u001b[38;5;241m=\u001b[39m R:\n",
      "\u001b[1;31mValueError\u001b[0m: invalid literal for int() with base 10: ''"
     ]
    }
   ],
   "source": [
    "R = int(input(\"输入整数：\"))\n",
    "i, S = 1, 0\n",
    "while i <= R:\n",
    "    S = S + i\n",
    "    i = i + 1\n",
    "\n",
    "print(\"1 + ... + {0} = {1}\".format(R, S))"
   ]
  },
  {
   "cell_type": "code",
   "execution_count": null,
   "metadata": {},
   "outputs": [],
   "source": [
    "PM=int(input(\"请输入PM2.5数值:\"))\n",
    "if 0 <= PM and PM < 35:\n",
    "    print(\"空气优质，快去户外运动!\")\n",
    "if 35 <= PM and PM <= 75:\n",
    "    print(\"空气良好，适度户外活动！\")\n",
    "if 75 < PM:\n",
    "    print(\"空气污染，请小心！\")"
   ]
  },
  {
   "cell_type": "code",
   "execution_count": null,
   "metadata": {},
   "outputs": [],
   "source": [
    "PM=int(input(\"请输入PM2.5数值:\"))\n",
    "if PM >= 75:\n",
    "    print(\"空气存在污染，请小心！\")\n",
    "else:\n",
    "    print(\"空气没有污染，可以开展户外运动!\")"
   ]
  },
  {
   "cell_type": "code",
   "execution_count": null,
   "metadata": {},
   "outputs": [],
   "source": [
    "PM=int(input(\"请输入PM2.5数值:\"))\n",
    "print(\"空气存在污染，请小心！\") if PM >= 75 else print(\"空气没有污染，可以开展户外运动!\")"
   ]
  },
  {
   "cell_type": "code",
   "execution_count": null,
   "metadata": {},
   "outputs": [],
   "source": [
    "PM=int(input(\"请输入PM2.5数值:\"))\n",
    "y = PM if PM >= 75 else 0\n",
    "\n",
    "print(y)"
   ]
  },
  {
   "cell_type": "code",
   "execution_count": null,
   "metadata": {},
   "outputs": [],
   "source": [
    "PM=int(input(\"请输入PM2.5数值:\"))\n",
    "if PM < 35:\n",
    "    print(\"空气优质，快去户外运动!\")\n",
    "elif PM <= 75:\n",
    "    print(\"空气良好，适度户外活动！\")\n",
    "else:\n",
    "    print(\"空气污染，请小心！\")"
   ]
  },
  {
   "cell_type": "code",
   "execution_count": null,
   "metadata": {},
   "outputs": [],
   "source": [
    "height, weight=eval(input(\"请输入身高(米)和体重(公斤)[逗号隔开]:\"))\n",
    "bmi= weight / pow(height, 2)\n",
    "print(\"BMI数值为：{:.2f}\".format(bmi))\n",
    "\n",
    "wto, dom=\"\", \"\"\n",
    "\n",
    "if bmi < 18.5: #WTO标准\n",
    "    wto=\"偏瘦\"\n",
    "elif bmi < 25: #18.5<=bmi<25\n",
    "    wto=\"正常\"\n",
    "elif bmi < 30:#25<=bmi<30\n",
    "    wto=\"偏胖\"\n",
    "else:\n",
    "    wto=\"肥胖\"\n",
    "    \n",
    "if bmi < 18.5:#我国卫生部标准\n",
    "    dom=\"偏瘦\"\n",
    "elif bmi < 24:#18.5<=bmi<24\n",
    "    dom=\"正常\"\n",
    "elif bmi < 28:#24<=bmi<28\n",
    "    dom=\"偏胖\"\n",
    "else:\n",
    "    dom=\"肥胖\"\n",
    "\n",
    "print(\"BMI指标为:国际'{0}',国内'{1}'\".format(wto,dom))"
   ]
  },
  {
   "cell_type": "code",
   "execution_count": null,
   "metadata": {},
   "outputs": [],
   "source": [
    "number = 30\n",
    "if number % 2 == 0:\n",
    "    print(number, 'is even')\n",
    "elif number % 3==0:\n",
    "    print(number, 'is multiple of 3')"
   ]
  },
  {
   "cell_type": "code",
   "execution_count": null,
   "metadata": {},
   "outputs": [],
   "source": [
    "import math\n",
    "a = float(input(\"Input a:\"))\n",
    "b = float(input(\"Input b:\"))\n",
    "c = float(input(\"Input c:\"))\n",
    "\n",
    "if a == 0:\n",
    "    print(\"The equation is linear.\")\n",
    "else:\n",
    "    delta = b**2 - 4 * a * c\n",
    "    if delta < 0:\n",
    "        print(\"No real root\")\n",
    "    elif delta == 0:\n",
    "        print(\"One root:\", -b/(2*a))\n",
    "    else:\n",
    "        root = math.sqrt(delta)\n",
    "        s1 = (-b + root)/(2*a)\n",
    "        s2 = (-b - root)/(2*a)\n",
    "        print(\"Two roots:\", s1, s2)"
   ]
  },
  {
   "cell_type": "code",
   "execution_count": null,
   "metadata": {},
   "outputs": [],
   "source": [
    "R=int(input(\"请输入正整数:\"))\n",
    "s = 0\n",
    "for i in range(R + 1):\n",
    "    s = s + i\n",
    "\n",
    "print(\"s = {0}\".format(s))"
   ]
  },
  {
   "cell_type": "code",
   "execution_count": null,
   "metadata": {},
   "outputs": [],
   "source": [
    "for c in \"abcdefg\":\n",
    "    print(c)"
   ]
  },
  {
   "cell_type": "code",
   "execution_count": null,
   "metadata": {},
   "outputs": [],
   "source": [
    "R=int(input(\"请输入正整数:\"))\n",
    "s = 0\n",
    "i = 0\n",
    "while s < R:\n",
    "    s = s + i\n",
    "    i = i + 1\n",
    "\n",
    "print(\"s = {0}, i = {1}\".format(s, i))"
   ]
  },
  {
   "cell_type": "code",
   "execution_count": null,
   "metadata": {},
   "outputs": [],
   "source": [
    "count = 0\n",
    "while count < 5:\n",
    "    print(\"Programming is fun!\")\n",
    "    count += 1"
   ]
  },
  {
   "cell_type": "code",
   "execution_count": null,
   "metadata": {},
   "outputs": [],
   "source": [
    "for s in \"RUC\":\n",
    "    print(s, end = \"\")\n",
    "    if s==\"U\":\n",
    "        break"
   ]
  },
  {
   "cell_type": "code",
   "execution_count": null,
   "metadata": {},
   "outputs": [],
   "source": [
    "for s in \"RUC\": \n",
    "    for i in range(10):\n",
    "        print(s, end = \"\")\n",
    "        if s==\"U\":\n",
    "            break"
   ]
  },
  {
   "cell_type": "code",
   "execution_count": null,
   "metadata": {},
   "outputs": [],
   "source": [
    "for s in \"Python\":\n",
    "    if s==\"t\":\n",
    "        break\n",
    "    print(s, end = \"\")\n",
    "print(\"\\nEnd\")"
   ]
  },
  {
   "cell_type": "code",
   "execution_count": null,
   "metadata": {},
   "outputs": [],
   "source": [
    "for s in \"Python\":\n",
    "    if s==\"t\":\n",
    "        continue\n",
    "    print(s, end = \"\")\n",
    "print(\"\\nEnd\")"
   ]
  },
  {
   "cell_type": "code",
   "execution_count": null,
   "metadata": {},
   "outputs": [],
   "source": [
    "import random\n",
    "random.seed()\n",
    "print(random.random())\n",
    "print(random.random())\n",
    "print(random.random())\n",
    "print(random.random())"
   ]
  },
  {
   "cell_type": "code",
   "execution_count": null,
   "metadata": {},
   "outputs": [],
   "source": [
    "\n",
    "import random\n",
    "import math\n",
    "\n",
    "DARTS=1000000\n",
    "hits=0.0\n",
    "\n",
    "random.seed()\n",
    "for i in range(1, DARTS+1):\n",
    "    x,y = random.random(),random.random()\n",
    "    dist = math.sqrt(x**2+y**2)\n",
    "    if dist<=1.0:\n",
    "        hits = hits + 1\n",
    "\n",
    "pi= 4 * (hits / DARTS)\n",
    "print(\"Pi值是{0}.\".format(pi))"
   ]
  }
 ],
 "metadata": {
  "kernelspec": {
   "display_name": "Python 3.10.7 64-bit",
   "language": "python",
   "name": "python3"
  },
  "language_info": {
   "codemirror_mode": {
    "name": "ipython",
    "version": 3
   },
   "file_extension": ".py",
   "mimetype": "text/x-python",
   "name": "python",
   "nbconvert_exporter": "python",
   "pygments_lexer": "ipython3",
   "version": "3.10.7"
  },
  "vscode": {
   "interpreter": {
    "hash": "3e282d89cba3cb7044b274283d5c9eb3f913e26e8fb3e03a208bfe7d8ed22969"
   }
  }
 },
 "nbformat": 4,
 "nbformat_minor": 4
}
