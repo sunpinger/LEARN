{
 "cells": [
  {
   "cell_type": "markdown",
   "metadata": {},
   "source": [
    "# Python部分第6次：Python IO编程"
   ]
  },
  {
   "cell_type": "code",
   "execution_count": null,
   "metadata": {},
   "outputs": [],
   "source": [
    "text_file = open('人工智能与Python程序设计.txt', 'rt', encoding=\"UTF-8\")"
   ]
  },
  {
   "cell_type": "code",
   "execution_count": null,
   "metadata": {},
   "outputs": [],
   "source": [
    "print(text_file.readline())"
   ]
  },
  {
   "cell_type": "code",
   "execution_count": null,
   "metadata": {},
   "outputs": [],
   "source": [
    "binary_file = open('人工智能与Python程序设计.txt', 'rb')"
   ]
  },
  {
   "cell_type": "code",
   "execution_count": null,
   "metadata": {},
   "outputs": [],
   "source": [
    "print(binary_file.readline())"
   ]
  },
  {
   "cell_type": "code",
   "execution_count": null,
   "metadata": {},
   "outputs": [],
   "source": [
    "file = open('人工智能与Python程序设计.txt', 'rt', encoding=\"UTF-8\")\n",
    "for i in range(3):\n",
    "    text = file.readline() #读取当前行\n",
    "    print(text)\n",
    "file.close()"
   ]
  },
  {
   "cell_type": "code",
   "execution_count": null,
   "metadata": {},
   "outputs": [],
   "source": [
    "file = open('人工智能与Python程序设计.txt', 'rt', encoding=\"UTF-8\")\n",
    "for i in range(3):\n",
    "    text = file.readline() #读取当前行\n",
    "    print(text,end='')\n",
    "file.close()"
   ]
  },
  {
   "cell_type": "code",
   "execution_count": null,
   "metadata": {},
   "outputs": [],
   "source": [
    "file = open('人工智能与Python程序设计.txt', 'rt', encoding=\"UTF-8\")\n",
    "for i in range(3):\n",
    "    text = file.readline(5) #读取在当前行从当前位置开始5个字符\n",
    "    print(text)\n",
    "file.close()"
   ]
  },
  {
   "cell_type": "code",
   "execution_count": null,
   "metadata": {},
   "outputs": [],
   "source": [
    "file = open('人工智能与Python程序设计.txt', 'rt', encoding=\"UTF-8\")\n",
    "for i in range(3):\n",
    "    text = file.readline(5) #读取在当前行从当前位置开始5个字符\n",
    "    print(text)\n",
    "    text = file.readline()  #读取在当前行从当前位置开始到结束的所有字符\n",
    "    print(text)\n",
    "file.close()"
   ]
  },
  {
   "cell_type": "code",
   "execution_count": null,
   "metadata": {},
   "outputs": [],
   "source": [
    "file_write = open('人工智能与Python程序设计-写入.txt', 'w')  # 文件对象的创建与打开，覆盖写\n",
    "file_write.writelines(['人工智能',' ','Python程序设计', '\\n', '人工智能与Python程序设计'])\n",
    "file_write.close()\n",
    "file_read = open('人工智能与Python程序设计-写入.txt', 'r')\n",
    "print(file_read.read())\n",
    "file_read.close()"
   ]
  },
  {
   "cell_type": "code",
   "execution_count": null,
   "metadata": {},
   "outputs": [],
   "source": [
    "with open('人工智能与Python程序设计-写入.txt', 'w') as f: \n",
    "    f.write('人工智能与Python程序设计 第一课')\n",
    "\n",
    "with open('人工智能与Python程序设计-写入.txt', 'r') as f:\n",
    "    print(f.read())"
   ]
  },
  {
   "cell_type": "code",
   "execution_count": null,
   "metadata": {},
   "outputs": [],
   "source": []
  },
  {
   "cell_type": "code",
   "execution_count": null,
   "metadata": {},
   "outputs": [],
   "source": [
    "ls = []\n",
    "with open('imagenet.csv', 'r') as f: # csv文件对象的创建与打开\n",
    "    for line in f: # csv文件逐行读取\n",
    "        line=line.replace(\"\\n\", \"\") # 去除每行末尾的回车符’\\n'\n",
    "        ls.append(line.split(\",\")) # 用逗号’,‘分隔元素\n",
    "print(ls)"
   ]
  },
  {
   "cell_type": "code",
   "execution_count": null,
   "metadata": {},
   "outputs": [],
   "source": [
    "import csv\n",
    "with open('imagenet.csv')as f: # csv文件对象的创建与打开\n",
    "    f_csv = csv.reader(f) # csv文件读取\n",
    "    for row in f_csv: # 逐行获取\n",
    "        print(row)"
   ]
  },
  {
   "cell_type": "code",
   "execution_count": null,
   "metadata": {},
   "outputs": [],
   "source": [
    "import csv\n",
    "with open('imagenet.csv', 'r') as f:\n",
    "    f_csv = csv.reader(f)\n",
    "    for row in f_csv:  # 对当前文件逐行获取\n",
    "        items = \"\"\n",
    "        for item in row:  # 对当前行逐元素获取\n",
    "            items += \"{}\\t\".format(item)   # ’\\t‘制表符\n",
    "        print(items)"
   ]
  },
  {
   "cell_type": "code",
   "execution_count": null,
   "metadata": {},
   "outputs": [],
   "source": [
    "import csv\n",
    "\n",
    "headers = ['Error rate', 'Gflops', 'Env Cost(CO2)', 'Economic Cost($)']\n",
    "rows = [['11.50%', '10^14', '10^6', '10^6'],\n",
    "        ['5%', '10^19', '10^10', '10^11'],\n",
    "        ['1%', '10^28', '10^20', '10^20']]\n",
    "\n",
    "with open('imagenet-write.csv','w') as f:  # csv文件对象的创建与打开\n",
    "    f_csv = csv.writer(f)    # 创建csv文件的写对象\n",
    "    f_csv.writerow(headers)  # 写入二维数据的第一行\n",
    "    f_csv.writerows(rows)    # 写入二维数据的剩余行"
   ]
  },
  {
   "cell_type": "code",
   "execution_count": null,
   "metadata": {},
   "outputs": [],
   "source": [
    "import csv\n",
    "\n",
    "headers = ['Error rate', 'Gflops', 'Env Cost(CO2)', 'Economic Cost($)']\n",
    "rows = [  # head中key对应的value数值\n",
    "        {'Error rate':'11.50%', 'Gflops':'10^14', 'Env Cost(CO2)':'10^6', 'Economic Cost($)':'10^6'},\n",
    "        {'Error rate':'5%', 'Gflops':'10^19', 'Env Cost(CO2)':'10^10', 'Economic Cost($)':'10^11'},\n",
    "        {'Error rate':'1%', 'Gflops':'10^28', 'Env Cost(CO2)':'10^20', 'Economic Cost($)':'10^20'}\n",
    "    ]\n",
    "\n",
    "with open('imagenet-write.csv','w',newline='') as f:\n",
    "    f_csv = csv.DictWriter(f,headers)  # 创建csv文件的字典写对象\n",
    "    f_csv.writeheader()   # 写入二维数据的第一行\n",
    "    f_csv.writerows(rows) # 利用字典key-value对应关系，写入二维数据的剩余行"
   ]
  },
  {
   "cell_type": "code",
   "execution_count": null,
   "metadata": {},
   "outputs": [],
   "source": []
  },
  {
   "cell_type": "code",
   "execution_count": null,
   "metadata": {},
   "outputs": [],
   "source": [
    "std1 = {'name': 'Michael', 'score': 98}\n",
    "std2 = {'name': 'Bob', 'score': 81}\n",
    "std3 = {'name': 'Kristen', 'score': 93}"
   ]
  },
  {
   "cell_type": "code",
   "execution_count": null,
   "metadata": {},
   "outputs": [],
   "source": [
    "def print_score(std):\n",
    "    print('%s: %d' % (std['name'], std['score']))\n",
    "\n",
    "print_score(std1)"
   ]
  },
  {
   "cell_type": "code",
   "execution_count": null,
   "metadata": {},
   "outputs": [],
   "source": [
    "class Student(object):\n",
    "    \n",
    "    def __init__(self, name, score):\n",
    "        # 类的构造函数， self代表类的实例\n",
    "        self.name  = name\n",
    "        self.score = score\n",
    "    def print_score(self):\n",
    "        # 类的方法\n",
    "        print('%s: %d' % (self.name, self.score))\n",
    "        \n",
    "Michael = Student('Michael', 98) # 创建实例对象\n",
    "print(Michael.name)"
   ]
  },
  {
   "cell_type": "code",
   "execution_count": null,
   "metadata": {},
   "outputs": [],
   "source": [
    "Michael = Student('Michael', 98) # 创建实例对象\n",
    "Kristen = Student('Kristen', 93) # 创建实例对象\n",
    "\n",
    "Michael.print_score() # 调用类的方法\n",
    "Kristen.print_score() # 调用类的方法"
   ]
  },
  {
   "cell_type": "code",
   "execution_count": null,
   "metadata": {},
   "outputs": [],
   "source": [
    "class Student2(object):\n",
    "    pass"
   ]
  },
  {
   "cell_type": "code",
   "execution_count": null,
   "metadata": {},
   "outputs": [],
   "source": [
    "Michael = Student2() \n",
    "Kristen = Student2()"
   ]
  },
  {
   "cell_type": "code",
   "execution_count": null,
   "metadata": {},
   "outputs": [],
   "source": [
    "print(Michael)\n",
    "print(Kristen)"
   ]
  },
  {
   "cell_type": "code",
   "execution_count": null,
   "metadata": {},
   "outputs": [],
   "source": [
    "print(Student2)"
   ]
  },
  {
   "cell_type": "code",
   "execution_count": null,
   "metadata": {},
   "outputs": [],
   "source": [
    "Michael.name = 'Michael Simon'\n",
    "print(Michael.name)"
   ]
  },
  {
   "cell_type": "code",
   "execution_count": null,
   "metadata": {},
   "outputs": [],
   "source": [
    "print(Kristen.name)"
   ]
  },
  {
   "cell_type": "code",
   "execution_count": null,
   "metadata": {},
   "outputs": [],
   "source": [
    "class Student(object):\n",
    "    \n",
    "    def __init__(self, name, score):\n",
    "        # 类的构造函数， self代表类的实例\n",
    "        self.name  = name\n",
    "        self.score = score"
   ]
  },
  {
   "cell_type": "code",
   "execution_count": null,
   "metadata": {},
   "outputs": [],
   "source": [
    "Michael = Student('Michael', 98) # 创建实例对象\n",
    "print(Michael.name)\n",
    "print(Michael.score)"
   ]
  },
  {
   "cell_type": "code",
   "execution_count": null,
   "metadata": {},
   "outputs": [],
   "source": [
    "class Student(object):\n",
    "    \n",
    "    def __init__(self, name, score):\n",
    "        # 类的构造函数， self代表类的实例\n",
    "        self.name  = name\n",
    "        self.score = score\n",
    "    \n",
    "    def print_score(self):\n",
    "        # 类的方法\n",
    "        print('%s: %d' % (self.name, self.score))\n",
    "    \n",
    "    def get_grade(self):\n",
    "        if self.score >= 90:\n",
    "            return 'A'\n",
    "        elif self.score >= 60:\n",
    "            return 'B'\n",
    "        else:\n",
    "            return 'C'"
   ]
  },
  {
   "cell_type": "code",
   "execution_count": null,
   "metadata": {},
   "outputs": [],
   "source": [
    "Michael = Student('David', 86) \n",
    "Michael.print_score()\n",
    "Michael.get_grade()"
   ]
  },
  {
   "cell_type": "code",
   "execution_count": null,
   "metadata": {},
   "outputs": [],
   "source": []
  },
  {
   "cell_type": "code",
   "execution_count": null,
   "metadata": {},
   "outputs": [],
   "source": [
    "\"\"\"Spelling Corrector in Python 3; see http://norvig.com/spell-correct.html\n",
    "\n",
    "Copyright (c) 2007-2016 Peter Norvig\n",
    "MIT license: www.opensource.org/licenses/mit-license.php\n",
    "\"\"\"\n",
    "\n",
    "################ Spelling Corrector \n",
    "\n",
    "import re\n",
    "from collections import Counter\n",
    "\n",
    "def words(text): return re.findall(r'\\w+', text.lower())\n",
    "\n",
    "WORDS = Counter(words(open('big.txt').read()))\n",
    "\n",
    "def P(word, N=sum(WORDS.values())): \n",
    "    \"Probability of `word`.\"\n",
    "    return WORDS[word] / N\n",
    "\n",
    "def correction(word): \n",
    "    \"Most probable spelling correction for word.\"\n",
    "    return max(candidates(word), key=P)\n",
    "\n",
    "def candidates(word): \n",
    "    \"Generate possible spelling corrections for word.\"\n",
    "    return (known([word]) or known(edits1(word)) or known(edits2(word)) or [word])\n",
    "\n",
    "def known(words): \n",
    "    \"The subset of `words` that appear in the dictionary of WORDS.\"\n",
    "    return set(w for w in words if w in WORDS)\n",
    "\n",
    "def edits1(word):\n",
    "    \"All edits that are one edit away from `word`.\"\n",
    "    letters    = 'abcdefghijklmnopqrstuvwxyz'\n",
    "    splits     = [(word[:i], word[i:])    for i in range(len(word) + 1)]\n",
    "    deletes    = [L + R[1:]               for L, R in splits if R]\n",
    "    transposes = [L + R[1] + R[0] + R[2:] for L, R in splits if len(R)>1]\n",
    "    replaces   = [L + c + R[1:]           for L, R in splits if R for c in letters]\n",
    "    inserts    = [L + c + R               for L, R in splits for c in letters]\n",
    "    return set(deletes + transposes + replaces + inserts)\n",
    "\n",
    "def edits2(word): \n",
    "    \"All edits that are two edits away from `word`.\"\n",
    "    return (e2 for e1 in edits1(word) for e2 in edits1(e1))"
   ]
  },
  {
   "cell_type": "code",
   "execution_count": null,
   "metadata": {},
   "outputs": [],
   "source": [
    "correction('univercity')"
   ]
  },
  {
   "cell_type": "code",
   "execution_count": null,
   "metadata": {},
   "outputs": [],
   "source": []
  },
  {
   "cell_type": "code",
   "execution_count": null,
   "metadata": {},
   "outputs": [],
   "source": [
    "# A simple one-layer neural network built with Pytorch\n",
    "\n",
    "import torch\n",
    "from torch import nn\n",
    "from torch import optim\n",
    "import torch.nn.functional as F\n",
    "\n",
    "def error(pred, y):\n",
    "    return abs(pred-y).mean()\n",
    "\n",
    "x = torch.tensor([\n",
    "    [90, 10],\n",
    "    [80, 5],\n",
    "    [85, 0],\n",
    "    [78, 10],\n",
    "    [75, 5],\n",
    "    [66, 15],\n",
    "    [52, 5]]\n",
    ")\n",
    "y = torch.tensor([\n",
    "    [100],\n",
    "    [92],\n",
    "    [92],\n",
    "    [93],\n",
    "    [89],\n",
    "    [89],\n",
    "    [75]]\n",
    ")\n",
    "x = x.float()/100\n",
    "y = y.float()/100\n",
    "\n",
    "lr = 0.1\n",
    "epochs = 10000\n",
    "\n",
    "loss_func = F.mse_loss\n",
    "\n",
    "model = nn.Sequential(\n",
    "    nn.Linear(2, 1)\n",
    ")\n",
    "\n",
    "opt = optim.SGD(model.parameters(), lr=lr)\n",
    "    \n",
    "for _ in range(epochs):\n",
    "    model.train()\n",
    "    pred = model(x)\n",
    "    loss = loss_func(pred, y)\n",
    "    loss.backward()\n",
    "    with torch.no_grad():\n",
    "        opt.step()\n",
    "        opt.zero_grad()\n",
    "\n",
    "print(\"正确结果: \\n\", y)\n",
    "print(\"预测结果: \\n\", pred)\n",
    "print(\"\\n误差: \", error(pred, y).item())"
   ]
  },
  {
   "cell_type": "code",
   "execution_count": null,
   "metadata": {},
   "outputs": [],
   "source": [
    "test = torch.tensor([0.83, 0.1])\n",
    "print(model(test).item())"
   ]
  },
  {
   "cell_type": "code",
   "execution_count": null,
   "metadata": {},
   "outputs": [],
   "source": []
  }
 ],
 "metadata": {
  "kernelspec": {
   "display_name": "Python 3 (ipykernel)",
   "language": "python",
   "name": "python3"
  },
  "language_info": {
   "codemirror_mode": {
    "name": "ipython",
    "version": 3
   },
   "file_extension": ".py",
   "mimetype": "text/x-python",
   "name": "python",
   "nbconvert_exporter": "python",
   "pygments_lexer": "ipython3",
   "version": "3.10.7"
  }
 },
 "nbformat": 4,
 "nbformat_minor": 4
}
