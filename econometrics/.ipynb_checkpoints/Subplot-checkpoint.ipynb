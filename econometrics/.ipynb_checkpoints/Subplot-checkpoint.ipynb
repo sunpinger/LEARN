{
 "cells": [
  {
   "cell_type": "code",
   "execution_count": null,
   "id": "2831585b-e0d0-49d4-a0c1-a6c27804c075",
   "metadata": {},
   "outputs": [],
   "source": [
    "import numpy as np\n",
    "import pandas as pd\n",
    "import matplotlib.pyplot as plt\n",
    "%matplotlib inline\n",
    "# 画第1个图：折线图\n",
    "x=np.arange(1,100)\n",
    "plt.subplot(221)\n",
    "plt.plot(x,x*x)\n",
    "# 画第2个图：散点图\n",
    "plt.subplot(222)\n",
    "plt.scatter(np.arange(0,10), np.random.rand(10))\n",
    "# 画第3个图：饼图\n",
    "plt.subplot(223)\n",
    "plt.pie(x=[15,30,45,10],labels=list('ABCD'),autopct='%.0f',explode=[0,0.05,0,0])\n",
    "# 画第4个图：条形图\n",
    "plt.subplot(224)\n",
    "plt.bar([20,10,30,25,15],[25,15,35,30,20],color='b')\n",
    "plt.show()"
   ]
  }
 ],
 "metadata": {
  "kernelspec": {
   "display_name": "Python 3 (ipykernel)",
   "language": "python",
   "name": "python3"
  },
  "language_info": {
   "codemirror_mode": {
    "name": "ipython",
    "version": 3
   },
   "file_extension": ".py",
   "mimetype": "text/x-python",
   "name": "python",
   "nbconvert_exporter": "python",
   "pygments_lexer": "ipython3",
   "version": "3.10.7"
  }
 },
 "nbformat": 4,
 "nbformat_minor": 5
}
